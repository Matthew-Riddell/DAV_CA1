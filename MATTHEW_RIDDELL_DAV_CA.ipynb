{
 "cells": [
  {
   "cell_type": "markdown",
   "id": "c9769381-08dd-435d-bada-6c4d1769d27e",
   "metadata": {},
   "source": [
    "### Data Analysis and Visualization\n",
    "CA1 Index Generation and Visualization\n",
    "Matthew Riddell - D00245674\n",
    "\n",
    "### 1. Theoretical Framework\n",
    "\n",
    "With the increasing costs of living year by year and the unstable nature of the current economy, especially with the US imposing tarrifs on all EU car imports, the market at this current point in time is rather grim. As a result we are expected to see a sharp rise in auto prices in the coming months and years. Car buyers are going to want to find the best bang for their buck, not just the cheapest option but the option that provides the bast value for their money, the best milage etc.\n",
    "\n",
    "This is why I propose the creation of a Car Value Index in order to measure the value of cars on the market by comparing prices, fule type, milage etc.\n",
    "\n",
    "This is Temp and I will update this in a bit\n",
    "\n",
    "I chose the following dataset from Kaggle: https://www.kaggle.com/datasets/sidharth178/car-prices-dataset?resource=download\n",
    "\n",
    "\n",
    "### References:\n",
    "\n",
    "https://motorway.co.uk/sell-my-car/guides/does-market-demand-impact-the-value-of-your-car\n",
    "https://wiiw.ac.at/how-trump-s-new-tariffs-will-impact-the-eu-s-already-struggling-automotive-industry-n-675.html\n",
    "https://www.kaggle.com/datasets/sidharth178/car-prices-dataset?resource=download\n",
    "\n"
   ]
  },
  {
   "cell_type": "markdown",
   "id": "c206b198-ad15-4cb4-9df0-99b0632337bb",
   "metadata": {},
   "source": [
    "### 2. Data Selection"
   ]
  },
  {
   "cell_type": "markdown",
   "id": "535a7a3c-ce7b-4339-84f0-adb65af1f3a4",
   "metadata": {},
   "source": [
    "### 3. Imputation of Missing Data"
   ]
  },
  {
   "cell_type": "markdown",
   "id": "d9184e38-e7a4-47cb-8286-88da7e21a880",
   "metadata": {},
   "source": [
    "### 4. Multivariate Analysis"
   ]
  },
  {
   "cell_type": "markdown",
   "id": "f582d867-51cb-445a-8f3f-f65b4ef109ee",
   "metadata": {},
   "source": [
    "### 5. Normalisation"
   ]
  },
  {
   "cell_type": "markdown",
   "id": "96e5308e-13c3-4642-ad25-9fef5adddf74",
   "metadata": {},
   "source": [
    "### 6. Weighting and Aggregation"
   ]
  },
  {
   "cell_type": "markdown",
   "id": "a748d411-b463-4a66-b704-4d2327b85d9a",
   "metadata": {},
   "source": [
    "### 7. Uncertainty and Sensitivity Analysis"
   ]
  },
  {
   "cell_type": "markdown",
   "id": "4a648cb3-b298-45df-aa33-a5bcbd8686e6",
   "metadata": {},
   "source": [
    "### 8. Back to the Data"
   ]
  },
  {
   "cell_type": "markdown",
   "id": "f6580749-9f0c-4d9e-bdaa-499d0c9f8e72",
   "metadata": {},
   "source": [
    "### 9. Links to other Indicators"
   ]
  },
  {
   "cell_type": "markdown",
   "id": "1ee76b00-2c81-4ec5-9572-c3fc20850821",
   "metadata": {},
   "source": [
    "### 10. Visualisation of the Results"
   ]
  },
  {
   "cell_type": "code",
   "execution_count": null,
   "id": "8bc4ea98-6a44-4f94-8e83-76ea38e9eb4a",
   "metadata": {},
   "outputs": [],
   "source": []
  }
 ],
 "metadata": {
  "kernelspec": {
   "display_name": "Python 3 (ipykernel)",
   "language": "python",
   "name": "python3"
  },
  "language_info": {
   "codemirror_mode": {
    "name": "ipython",
    "version": 3
   },
   "file_extension": ".py",
   "mimetype": "text/x-python",
   "name": "python",
   "nbconvert_exporter": "python",
   "pygments_lexer": "ipython3",
   "version": "3.12.7"
  }
 },
 "nbformat": 4,
 "nbformat_minor": 5
}
