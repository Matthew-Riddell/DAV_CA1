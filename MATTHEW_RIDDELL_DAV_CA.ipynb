{
 "cells": [
  {
   "cell_type": "markdown",
   "id": "c9769381-08dd-435d-bada-6c4d1769d27e",
   "metadata": {},
   "source": [
    "### Data Analysis and Visualization\n",
    "CA1 Index Generation and Visualization\n",
    "Matthew Riddell - D00245674\n",
    "\n",
    "### 1. Theoretical Framework\n",
    "\n",
    "I wish to create a World Healthy Index to show which countries are the healthiest bas\n",
    "\n",
    "Temp....\n",
    "\n",
    "\n",
    "\n",
    "\n",
    "\n",
    "\n",
    "\n",
    "### References:\n",
    "\n",
    "World Data 2023, Kaggle Dataset\n",
    "https://www.kaggle.com/datasets/nelgiriyewithana/countries-of-the-world-2023\n",
    "\n",
    "\n",
    "\n"
   ]
  },
  {
   "cell_type": "markdown",
   "id": "c206b198-ad15-4cb4-9df0-99b0632337bb",
   "metadata": {},
   "source": [
    "### 2. Data Selection"
   ]
  },
  {
   "cell_type": "markdown",
   "id": "7edb8844-733c-40ca-beb1-a93fdee9d70f",
   "metadata": {},
   "source": [
    "Importing Dataset:"
   ]
  },
  {
   "cell_type": "code",
   "execution_count": 17,
   "id": "18d7da7c-4ec7-41ff-94fd-3c7c737fb2c4",
   "metadata": {},
   "outputs": [
    {
     "name": "stdout",
     "output_type": "stream",
     "text": [
      "<class 'pandas.core.frame.DataFrame'>\n",
      "RangeIndex: 195 entries, 0 to 194\n",
      "Data columns (total 35 columns):\n",
      " #   Column                                     Non-Null Count  Dtype  \n",
      "---  ------                                     --------------  -----  \n",
      " 0   Country                                    195 non-null    object \n",
      " 1   Density\n",
      "(P/Km2)                            195 non-null    object \n",
      " 2   Abbreviation                               188 non-null    object \n",
      " 3   Agricultural Land( %)                      188 non-null    object \n",
      " 4   Land Area(Km2)                             194 non-null    object \n",
      " 5   Armed Forces size                          171 non-null    object \n",
      " 6   Birth Rate                                 189 non-null    float64\n",
      " 7   Calling Code                               194 non-null    float64\n",
      " 8   Capital/Major City                         192 non-null    object \n",
      " 9   Co2-Emissions                              188 non-null    object \n",
      " 10  CPI                                        178 non-null    object \n",
      " 11  CPI Change (%)                             179 non-null    object \n",
      " 12  Currency-Code                              180 non-null    object \n",
      " 13  Fertility Rate                             188 non-null    float64\n",
      " 14  Forested Area (%)                          188 non-null    object \n",
      " 15  Gasoline Price                             175 non-null    object \n",
      " 16  GDP                                        193 non-null    object \n",
      " 17  Gross primary education enrollment (%)     188 non-null    object \n",
      " 18  Gross tertiary education enrollment (%)    183 non-null    object \n",
      " 19  Infant mortality                           189 non-null    float64\n",
      " 20  Largest city                               189 non-null    object \n",
      " 21  Life expectancy                            187 non-null    float64\n",
      " 22  Maternal mortality ratio                   181 non-null    float64\n",
      " 23  Minimum wage                               150 non-null    object \n",
      " 24  Official language                          190 non-null    object \n",
      " 25  Out of pocket health expenditure           188 non-null    object \n",
      " 26  Physicians per thousand                    188 non-null    float64\n",
      " 27  Population                                 194 non-null    object \n",
      " 28  Population: Labor force participation (%)  176 non-null    object \n",
      " 29  Tax revenue (%)                            169 non-null    object \n",
      " 30  Total tax rate                             183 non-null    object \n",
      " 31  Unemployment rate                          176 non-null    object \n",
      " 32  Urban_population                           190 non-null    object \n",
      " 33  Latitude                                   194 non-null    float64\n",
      " 34  Longitude                                  194 non-null    float64\n",
      "dtypes: float64(9), object(26)\n",
      "memory usage: 53.4+ KB\n"
     ]
    }
   ],
   "source": [
    "import pandas as pd\n",
    "\n",
    "df = pd.read_csv('world-data-2023.csv')\n",
    "df.head()\n",
    "df.info()"
   ]
  },
  {
   "cell_type": "markdown",
   "id": "535a7a3c-ce7b-4339-84f0-adb65af1f3a4",
   "metadata": {},
   "source": [
    "### 3. Imputation of Missing Data"
   ]
  },
  {
   "cell_type": "markdown",
   "id": "d9184e38-e7a4-47cb-8286-88da7e21a880",
   "metadata": {},
   "source": [
    "### 4. Multivariate Analysis"
   ]
  },
  {
   "cell_type": "markdown",
   "id": "f582d867-51cb-445a-8f3f-f65b4ef109ee",
   "metadata": {},
   "source": [
    "### 5. Normalisation"
   ]
  },
  {
   "cell_type": "markdown",
   "id": "96e5308e-13c3-4642-ad25-9fef5adddf74",
   "metadata": {},
   "source": [
    "### 6. Weighting and Aggregation"
   ]
  },
  {
   "cell_type": "markdown",
   "id": "a748d411-b463-4a66-b704-4d2327b85d9a",
   "metadata": {},
   "source": [
    "### 7. Uncertainty and Sensitivity Analysis"
   ]
  },
  {
   "cell_type": "markdown",
   "id": "4a648cb3-b298-45df-aa33-a5bcbd8686e6",
   "metadata": {},
   "source": [
    "### 8. Back to the Data"
   ]
  },
  {
   "cell_type": "markdown",
   "id": "f6580749-9f0c-4d9e-bdaa-499d0c9f8e72",
   "metadata": {},
   "source": [
    "### 9. Links to other Indicators"
   ]
  },
  {
   "cell_type": "markdown",
   "id": "1ee76b00-2c81-4ec5-9572-c3fc20850821",
   "metadata": {},
   "source": [
    "### 10. Visualisation of the Results"
   ]
  },
  {
   "cell_type": "code",
   "execution_count": null,
   "id": "8bc4ea98-6a44-4f94-8e83-76ea38e9eb4a",
   "metadata": {},
   "outputs": [],
   "source": []
  }
 ],
 "metadata": {
  "kernelspec": {
   "display_name": "Python 3 (ipykernel)",
   "language": "python",
   "name": "python3"
  },
  "language_info": {
   "codemirror_mode": {
    "name": "ipython",
    "version": 3
   },
   "file_extension": ".py",
   "mimetype": "text/x-python",
   "name": "python",
   "nbconvert_exporter": "python",
   "pygments_lexer": "ipython3",
   "version": "3.12.7"
  }
 },
 "nbformat": 4,
 "nbformat_minor": 5
}
