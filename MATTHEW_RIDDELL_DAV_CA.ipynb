{
 "cells": [
  {
   "cell_type": "markdown",
   "id": "c9769381-08dd-435d-bada-6c4d1769d27e",
   "metadata": {},
   "source": [
    "### Data Analysis and Visualization\n",
    "CA1 Index Generation and Visualization\n",
    "Matthew Riddell - D00245674\n",
    "\n",
    "### 1. Theoretical Framework\n",
    "\n",
    "I wish to create a Country Healthy Index (CDI) to show which countries are the healthiest based on the following dimensions\n",
    "\n",
    "Temp....\n",
    "\n",
    "### Dimensions\n",
    "\n",
    "<ul>\n",
    "<li>Longevity</li>\t\n",
    "<li>Access to Care</li>\t\n",
    "<li>Health Outcomes</li>\t\n",
    "<li>Financial Risk</li>\t\n",
    "<li>Environmental Factors</li>\t\t   \n",
    "</ul>\n",
    "\n",
    "\n",
    "\n",
    "\n",
    "\n",
    "\n",
    "\n",
    "### References:\n",
    "\n",
    "World Data 2023, Kaggle Dataset\n",
    "https://www.kaggle.com/datasets/nelgiriyewithana/countries-of-the-world-2023\n",
    "\n",
    "\n",
    "\n"
   ]
  },
  {
   "cell_type": "markdown",
   "id": "c206b198-ad15-4cb4-9df0-99b0632337bb",
   "metadata": {},
   "source": [
    "### 2. Data Selection\n",
    "\n",
    "For the development of the Country Healthy Index, the following variables from the dataset will be used:\n",
    "\n",
    "<ul>\n",
    "<li>Life expectancy</li>\n",
    "<li>Physicians per thousand</li>\n",
    "<li>Infant mortality</li>\t\n",
    "<li>Maternal mortality ratio</li>\t\n",
    "<li>Out of pocket health expenditure</li>\t\n",
    "<li>Co2-Emissions</li>\n",
    "</ul>"
   ]
  },
  {
   "cell_type": "markdown",
   "id": "7edb8844-733c-40ca-beb1-a93fdee9d70f",
   "metadata": {},
   "source": [
    "Importing Dataset:"
   ]
  },
  {
   "cell_type": "code",
   "execution_count": 1,
   "id": "18d7da7c-4ec7-41ff-94fd-3c7c737fb2c4",
   "metadata": {},
   "outputs": [
    {
     "name": "stdout",
     "output_type": "stream",
     "text": [
      "Available Columns:\n",
      " ['Country', 'Density\\n(P/Km2)', 'Abbreviation', 'Agricultural Land( %)', 'Land Area(Km2)', 'Armed Forces size', 'Birth Rate', 'Calling Code', 'Capital/Major City', 'Co2-Emissions', 'CPI', 'CPI Change (%)', 'Currency-Code', 'Fertility Rate', 'Forested Area (%)', 'Gasoline Price', 'GDP', 'Gross primary education enrollment (%)', 'Gross tertiary education enrollment (%)', 'Infant mortality', 'Largest city', 'Life expectancy', 'Maternal mortality ratio', 'Minimum wage', 'Official language', 'Out of pocket health expenditure', 'Physicians per thousand', 'Population', 'Population: Labor force participation (%)', 'Tax revenue (%)', 'Total tax rate', 'Unemployment rate', 'Urban_population', 'Latitude', 'Longitude']\n"
     ]
    },
    {
     "data": {
      "text/html": [
       "<div>\n",
       "<style scoped>\n",
       "    .dataframe tbody tr th:only-of-type {\n",
       "        vertical-align: middle;\n",
       "    }\n",
       "\n",
       "    .dataframe tbody tr th {\n",
       "        vertical-align: top;\n",
       "    }\n",
       "\n",
       "    .dataframe thead th {\n",
       "        text-align: right;\n",
       "    }\n",
       "</style>\n",
       "<table border=\"1\" class=\"dataframe\">\n",
       "  <thead>\n",
       "    <tr style=\"text-align: right;\">\n",
       "      <th></th>\n",
       "      <th>Country</th>\n",
       "      <th>Life expectancy</th>\n",
       "      <th>Physicians per thousand</th>\n",
       "      <th>Infant mortality</th>\n",
       "      <th>Maternal mortality ratio</th>\n",
       "      <th>Out of pocket health expenditure</th>\n",
       "      <th>Co2-Emissions</th>\n",
       "    </tr>\n",
       "  </thead>\n",
       "  <tbody>\n",
       "    <tr>\n",
       "      <th>0</th>\n",
       "      <td>Afghanistan</td>\n",
       "      <td>64.5</td>\n",
       "      <td>0.28</td>\n",
       "      <td>47.9</td>\n",
       "      <td>638.0</td>\n",
       "      <td>78.40%</td>\n",
       "      <td>8,672</td>\n",
       "    </tr>\n",
       "    <tr>\n",
       "      <th>1</th>\n",
       "      <td>Albania</td>\n",
       "      <td>78.5</td>\n",
       "      <td>1.20</td>\n",
       "      <td>7.8</td>\n",
       "      <td>15.0</td>\n",
       "      <td>56.90%</td>\n",
       "      <td>4,536</td>\n",
       "    </tr>\n",
       "    <tr>\n",
       "      <th>2</th>\n",
       "      <td>Algeria</td>\n",
       "      <td>76.7</td>\n",
       "      <td>1.72</td>\n",
       "      <td>20.1</td>\n",
       "      <td>112.0</td>\n",
       "      <td>28.10%</td>\n",
       "      <td>150,006</td>\n",
       "    </tr>\n",
       "    <tr>\n",
       "      <th>3</th>\n",
       "      <td>Andorra</td>\n",
       "      <td>NaN</td>\n",
       "      <td>3.33</td>\n",
       "      <td>2.7</td>\n",
       "      <td>NaN</td>\n",
       "      <td>36.40%</td>\n",
       "      <td>469</td>\n",
       "    </tr>\n",
       "    <tr>\n",
       "      <th>4</th>\n",
       "      <td>Angola</td>\n",
       "      <td>60.8</td>\n",
       "      <td>0.21</td>\n",
       "      <td>51.6</td>\n",
       "      <td>241.0</td>\n",
       "      <td>33.40%</td>\n",
       "      <td>34,693</td>\n",
       "    </tr>\n",
       "  </tbody>\n",
       "</table>\n",
       "</div>"
      ],
      "text/plain": [
       "       Country  Life expectancy  Physicians per thousand  Infant mortality  \\\n",
       "0  Afghanistan             64.5                     0.28              47.9   \n",
       "1      Albania             78.5                     1.20               7.8   \n",
       "2      Algeria             76.7                     1.72              20.1   \n",
       "3      Andorra              NaN                     3.33               2.7   \n",
       "4       Angola             60.8                     0.21              51.6   \n",
       "\n",
       "   Maternal mortality ratio Out of pocket health expenditure Co2-Emissions  \n",
       "0                     638.0                           78.40%         8,672  \n",
       "1                      15.0                           56.90%         4,536  \n",
       "2                     112.0                           28.10%       150,006  \n",
       "3                       NaN                           36.40%           469  \n",
       "4                     241.0                           33.40%        34,693  "
      ]
     },
     "execution_count": 1,
     "metadata": {},
     "output_type": "execute_result"
    }
   ],
   "source": [
    "import pandas as pd\n",
    "\n",
    "# loading dataset\n",
    "file_path = \"world-data-2023.csv\"\n",
    "df = pd.read_csv(file_path)\n",
    "\n",
    "# printing the columns from the dataset\n",
    "print(\"Available Columns:\\n\", df.columns.tolist())\n",
    "\n",
    "# selection of relevant indicators for the Country Healthy Index (CHI)\n",
    "selected_columns = [\n",
    "    'Country',\n",
    "    'Life expectancy',\n",
    "    'Physicians per thousand',\n",
    "    'Infant mortality',\n",
    "    'Maternal mortality ratio',\n",
    "    'Out of pocket health expenditure',\n",
    "    'Co2-Emissions'\n",
    "]\n",
    "\n",
    "df_selected = df[selected_columns]\n",
    "\n",
    "# Viewing the first few rows of the selected heading\n",
    "df_selected.head()\n"
   ]
  },
  {
   "cell_type": "markdown",
   "id": "535a7a3c-ce7b-4339-84f0-adb65af1f3a4",
   "metadata": {},
   "source": [
    "### 3. Imputation of Missing Data"
   ]
  },
  {
   "cell_type": "code",
   "execution_count": null,
   "id": "51c0b3f5-ea56-422c-947f-8835b245b313",
   "metadata": {},
   "outputs": [],
   "source": [
    "Checking selected variables for missing data"
   ]
  },
  {
   "cell_type": "code",
   "execution_count": 9,
   "id": "b020dbcc-4e9d-4d1e-8520-f038a9df6306",
   "metadata": {},
   "outputs": [
    {
     "name": "stdout",
     "output_type": "stream",
     "text": [
      "Country                              0\n",
      "Life expectancy                      8\n",
      "Physicians per thousand              7\n",
      "Infant mortality                     6\n",
      "Maternal mortality ratio            14\n",
      "Out of pocket health expenditure     7\n",
      "Co2-Emissions                        7\n",
      "dtype: int64\n"
     ]
    }
   ],
   "source": [
    "missing_values = df_selected.isnull().sum()\n",
    "print(missing_values)"
   ]
  },
  {
   "cell_type": "code",
   "execution_count": 13,
   "id": "638ed987-2562-435f-bcbb-8afb61e24973",
   "metadata": {},
   "outputs": [
    {
     "ename": "SyntaxError",
     "evalue": "invalid syntax (2132256648.py, line 1)",
     "output_type": "error",
     "traceback": [
      "\u001b[1;36m  Cell \u001b[1;32mIn[13], line 1\u001b[1;36m\u001b[0m\n\u001b[1;33m    df.Life expectancy.median()\u001b[0m\n\u001b[1;37m            ^\u001b[0m\n\u001b[1;31mSyntaxError\u001b[0m\u001b[1;31m:\u001b[0m invalid syntax\n"
     ]
    }
   ],
   "source": []
  },
  {
   "cell_type": "markdown",
   "id": "d9184e38-e7a4-47cb-8286-88da7e21a880",
   "metadata": {},
   "source": [
    "### 4. Multivariate Analysis"
   ]
  },
  {
   "cell_type": "markdown",
   "id": "f582d867-51cb-445a-8f3f-f65b4ef109ee",
   "metadata": {},
   "source": [
    "### 5. Normalisation"
   ]
  },
  {
   "cell_type": "markdown",
   "id": "96e5308e-13c3-4642-ad25-9fef5adddf74",
   "metadata": {},
   "source": [
    "### 6. Weighting and Aggregation"
   ]
  },
  {
   "cell_type": "markdown",
   "id": "a748d411-b463-4a66-b704-4d2327b85d9a",
   "metadata": {},
   "source": [
    "### 7. Uncertainty and Sensitivity Analysis"
   ]
  },
  {
   "cell_type": "markdown",
   "id": "4a648cb3-b298-45df-aa33-a5bcbd8686e6",
   "metadata": {},
   "source": [
    "### 8. Back to the Data"
   ]
  },
  {
   "cell_type": "markdown",
   "id": "f6580749-9f0c-4d9e-bdaa-499d0c9f8e72",
   "metadata": {},
   "source": [
    "### 9. Links to other Indicators"
   ]
  },
  {
   "cell_type": "markdown",
   "id": "1ee76b00-2c81-4ec5-9572-c3fc20850821",
   "metadata": {},
   "source": [
    "### 10. Visualisation of the Results"
   ]
  },
  {
   "cell_type": "code",
   "execution_count": null,
   "id": "8bc4ea98-6a44-4f94-8e83-76ea38e9eb4a",
   "metadata": {},
   "outputs": [],
   "source": []
  }
 ],
 "metadata": {
  "kernelspec": {
   "display_name": "Python 3 (ipykernel)",
   "language": "python",
   "name": "python3"
  },
  "language_info": {
   "codemirror_mode": {
    "name": "ipython",
    "version": 3
   },
   "file_extension": ".py",
   "mimetype": "text/x-python",
   "name": "python",
   "nbconvert_exporter": "python",
   "pygments_lexer": "ipython3",
   "version": "3.12.7"
  }
 },
 "nbformat": 4,
 "nbformat_minor": 5
}
