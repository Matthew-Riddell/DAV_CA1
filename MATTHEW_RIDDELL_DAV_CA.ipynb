{
 "cells": [
  {
   "cell_type": "markdown",
   "id": "c9769381-08dd-435d-bada-6c4d1769d27e",
   "metadata": {},
   "source": [
    "### Data Analysis and Visualization\n",
    "CA1 Index Generation and Visualization\n",
    "Matthew Riddell - D00245674\n",
    "\n",
    "### Theoretical Framework\n",
    "\n",
    "With the increasing costs of living year by year and the unstable nature of the current economy, especially with the US imposing tarrifs on all EU car imports, the market at this current point in time is rather grim. As a result we are expected to see a sharp rise in auto prices in the coming months and years. Car buyers are going to want to find the best bang for their buck, not just the cheapest option but the option that provides the bast value for their money, the best milage etc.\n",
    "\n",
    "This is why I propose the creation of a Car Value Index in order to measure the value of cars on the market by comparing prices, fule type, milage etc.\n",
    "\n",
    "This is Temp and I will update this in a bit\n",
    "\n",
    "I chose the following dataset from Kaggle: https://www.kaggle.com/datasets/sidharth178/car-prices-dataset?resource=download\n",
    "\n",
    "\n",
    "### References:\n",
    "\n",
    "https://motorway.co.uk/sell-my-car/guides/does-market-demand-impact-the-value-of-your-car\n",
    "https://wiiw.ac.at/how-trump-s-new-tariffs-will-impact-the-eu-s-already-struggling-automotive-industry-n-675.html\n",
    "https://www.kaggle.com/datasets/sidharth178/car-prices-dataset?resource=download\n",
    "\n"
   ]
  },
  {
   "cell_type": "code",
   "execution_count": null,
   "id": "81bc4939-c27a-4767-b381-f741f9d010d5",
   "metadata": {},
   "outputs": [],
   "source": []
  }
 ],
 "metadata": {
  "kernelspec": {
   "display_name": "Python 3 (ipykernel)",
   "language": "python",
   "name": "python3"
  },
  "language_info": {
   "codemirror_mode": {
    "name": "ipython",
    "version": 3
   },
   "file_extension": ".py",
   "mimetype": "text/x-python",
   "name": "python",
   "nbconvert_exporter": "python",
   "pygments_lexer": "ipython3",
   "version": "3.12.7"
  }
 },
 "nbformat": 4,
 "nbformat_minor": 5
}
