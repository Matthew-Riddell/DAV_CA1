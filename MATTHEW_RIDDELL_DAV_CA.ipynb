{
 "cells": [
  {
   "cell_type": "markdown",
   "id": "c9769381-08dd-435d-bada-6c4d1769d27e",
   "metadata": {},
   "source": [
    "### Data Analysis and Visualization\n",
    "CA1 Index Generation and Visualization\n",
    "Matthew Riddell - D00245674\n",
    "\n",
    "### 1. Theoretical Framework\n",
    "\n",
    "I wish to create a Country Healthy Index (CDI) to show which countries are the healthiest based on the following dimensions\n",
    "\n",
    "Temp....\n",
    "\n",
    "### Dimensions\n",
    "\n",
    "<ul>\n",
    "<li>Longevity</li>\t\n",
    "<li>Access to Care</li>\t\n",
    "<li>Health Outcomes</li>\t\n",
    "<li>Financial Risk</li>\t\n",
    "<li>Environmental Factors</li>\t\t   \n",
    "</ul>\n",
    "\n",
    "\n",
    "\n",
    "\n",
    "\n",
    "\n",
    "\n",
    "### References:\n",
    "\n",
    "World Data 2023, Kaggle Dataset\n",
    "https://www.kaggle.com/datasets/nelgiriyewithana/countries-of-the-world-2023\n",
    "\n",
    "\n",
    "\n"
   ]
  },
  {
   "cell_type": "markdown",
   "id": "c206b198-ad15-4cb4-9df0-99b0632337bb",
   "metadata": {},
   "source": [
    "### 2. Data Selection\n",
    "\n",
    "For the development of the Country Healthy Index, the following variables from the dataset will be used:\n",
    "\n",
    "<ul>\n",
    "<li>Life expectancy</li>\n",
    "<li>Physicians per thousand</li>\n",
    "<li>Infant mortality</li>\t\n",
    "<li>Maternal mortality ratio</li>\t\n",
    "<li>Out of pocket health expenditure</li>\t\n",
    "<li>Co2-Emissions</li>\n",
    "</ul>"
   ]
  },
  {
   "cell_type": "markdown",
   "id": "7edb8844-733c-40ca-beb1-a93fdee9d70f",
   "metadata": {},
   "source": [
    "Importing Dataset:"
   ]
  },
  {
   "cell_type": "code",
   "execution_count": 44,
   "id": "18d7da7c-4ec7-41ff-94fd-3c7c737fb2c4",
   "metadata": {},
   "outputs": [
    {
     "name": "stdout",
     "output_type": "stream",
     "text": [
      "Available Columns:\n",
      " ['Country', 'Density\\n(P/Km2)', 'Abbreviation', 'Agricultural Land( %)', 'Land Area(Km2)', 'Armed Forces size', 'Birth Rate', 'Calling Code', 'Capital/Major City', 'Co2-Emissions', 'CPI', 'CPI Change (%)', 'Currency-Code', 'Fertility Rate', 'Forested Area (%)', 'Gasoline Price', 'GDP', 'Gross primary education enrollment (%)', 'Gross tertiary education enrollment (%)', 'Infant mortality', 'Largest city', 'Life expectancy', 'Maternal mortality ratio', 'Minimum wage', 'Official language', 'Out of pocket health expenditure', 'Physicians per thousand', 'Population', 'Population: Labor force participation (%)', 'Tax revenue (%)', 'Total tax rate', 'Unemployment rate', 'Urban_population', 'Latitude', 'Longitude']\n"
     ]
    },
    {
     "data": {
      "text/html": [
       "<div>\n",
       "<style scoped>\n",
       "    .dataframe tbody tr th:only-of-type {\n",
       "        vertical-align: middle;\n",
       "    }\n",
       "\n",
       "    .dataframe tbody tr th {\n",
       "        vertical-align: top;\n",
       "    }\n",
       "\n",
       "    .dataframe thead th {\n",
       "        text-align: right;\n",
       "    }\n",
       "</style>\n",
       "<table border=\"1\" class=\"dataframe\">\n",
       "  <thead>\n",
       "    <tr style=\"text-align: right;\">\n",
       "      <th></th>\n",
       "      <th>Country</th>\n",
       "      <th>life_expectancy</th>\n",
       "      <th>physicians_per_thousand</th>\n",
       "      <th>infant_mortality</th>\n",
       "      <th>maternal_mortality_ratio</th>\n",
       "      <th>out_of_pocket_expenditure</th>\n",
       "      <th>co2_emissions</th>\n",
       "    </tr>\n",
       "  </thead>\n",
       "  <tbody>\n",
       "    <tr>\n",
       "      <th>0</th>\n",
       "      <td>Afghanistan</td>\n",
       "      <td>64.500000</td>\n",
       "      <td>0.28</td>\n",
       "      <td>47.9</td>\n",
       "      <td>638.000000</td>\n",
       "      <td>78.4</td>\n",
       "      <td>8672.0</td>\n",
       "    </tr>\n",
       "    <tr>\n",
       "      <th>1</th>\n",
       "      <td>Albania</td>\n",
       "      <td>78.500000</td>\n",
       "      <td>1.20</td>\n",
       "      <td>7.8</td>\n",
       "      <td>15.000000</td>\n",
       "      <td>56.9</td>\n",
       "      <td>4536.0</td>\n",
       "    </tr>\n",
       "    <tr>\n",
       "      <th>2</th>\n",
       "      <td>Algeria</td>\n",
       "      <td>76.700000</td>\n",
       "      <td>1.72</td>\n",
       "      <td>20.1</td>\n",
       "      <td>112.000000</td>\n",
       "      <td>28.1</td>\n",
       "      <td>150006.0</td>\n",
       "    </tr>\n",
       "    <tr>\n",
       "      <th>3</th>\n",
       "      <td>Andorra</td>\n",
       "      <td>72.279679</td>\n",
       "      <td>3.33</td>\n",
       "      <td>2.7</td>\n",
       "      <td>160.392265</td>\n",
       "      <td>36.4</td>\n",
       "      <td>469.0</td>\n",
       "    </tr>\n",
       "    <tr>\n",
       "      <th>4</th>\n",
       "      <td>Angola</td>\n",
       "      <td>60.800000</td>\n",
       "      <td>0.21</td>\n",
       "      <td>51.6</td>\n",
       "      <td>241.000000</td>\n",
       "      <td>33.4</td>\n",
       "      <td>34693.0</td>\n",
       "    </tr>\n",
       "  </tbody>\n",
       "</table>\n",
       "</div>"
      ],
      "text/plain": [
       "       Country  life_expectancy  physicians_per_thousand  infant_mortality  \\\n",
       "0  Afghanistan        64.500000                     0.28              47.9   \n",
       "1      Albania        78.500000                     1.20               7.8   \n",
       "2      Algeria        76.700000                     1.72              20.1   \n",
       "3      Andorra        72.279679                     3.33               2.7   \n",
       "4       Angola        60.800000                     0.21              51.6   \n",
       "\n",
       "   maternal_mortality_ratio  out_of_pocket_expenditure  co2_emissions  \n",
       "0                638.000000                       78.4         8672.0  \n",
       "1                 15.000000                       56.9         4536.0  \n",
       "2                112.000000                       28.1       150006.0  \n",
       "3                160.392265                       36.4          469.0  \n",
       "4                241.000000                       33.4        34693.0  "
      ]
     },
     "execution_count": 44,
     "metadata": {},
     "output_type": "execute_result"
    }
   ],
   "source": [
    "import pandas as pd\n",
    "\n",
    "# loading dataset\n",
    "file_path = \"world-data-2023.csv\"\n",
    "df = pd.read_csv(file_path)\n",
    "\n",
    "# printing the columns from the dataset\n",
    "print(\"Available Columns:\\n\", df.columns.tolist())\n",
    "\n",
    "# selection of relevant indicators for the Country Healthy Index (CHI)\n",
    "selected_columns = [\n",
    "    'Country',\n",
    "    'Life expectancy',\n",
    "    'Physicians per thousand',\n",
    "    'Infant mortality',\n",
    "    'Maternal mortality ratio',\n",
    "    'Out of pocket health expenditure',\n",
    "    'Co2-Emissions'\n",
    "]\n",
    "\n",
    "# Rename variables for convenience \n",
    "df_selected = df_selected.rename(columns={\n",
    "    'Life expectancy': 'life_expectancy',\n",
    "    'Physicians per thousand': 'physicians_per_thousand',\n",
    "    'Infant mortality': 'infant_mortality',\n",
    "    'Maternal mortality ratio': 'maternal_mortality_ratio',\n",
    "    'Out of pocket health expenditure': 'out_of_pocket_expenditure',\n",
    "    'Co2-Emissions': 'co2_emissions'\n",
    "})\n",
    "\n",
    "# View the first few rows of the selected data\n",
    "df_selected.head()\n"
   ]
  },
  {
   "cell_type": "markdown",
   "id": "535a7a3c-ce7b-4339-84f0-adb65af1f3a4",
   "metadata": {},
   "source": [
    "### 3. Imputation of Missing Data"
   ]
  },
  {
   "cell_type": "markdown",
   "id": "1f986ddc-d234-4012-8650-640f65b13c69",
   "metadata": {},
   "source": [
    "Checking selected variables for missing data"
   ]
  },
  {
   "cell_type": "code",
   "execution_count": 46,
   "id": "b020dbcc-4e9d-4d1e-8520-f038a9df6306",
   "metadata": {},
   "outputs": [
    {
     "name": "stdout",
     "output_type": "stream",
     "text": [
      "Country                      0\n",
      "life_expectancy              0\n",
      "physicians_per_thousand      0\n",
      "infant_mortality             0\n",
      "maternal_mortality_ratio     0\n",
      "out_of_pocket_expenditure    0\n",
      "co2_emissions                0\n",
      "dtype: int64\n"
     ]
    },
    {
     "ename": "AttributeError",
     "evalue": "Can only use .str accessor with string values!",
     "output_type": "error",
     "traceback": [
      "\u001b[1;31m---------------------------------------------------------------------------\u001b[0m",
      "\u001b[1;31mAttributeError\u001b[0m                            Traceback (most recent call last)",
      "Cell \u001b[1;32mIn[46], line 7\u001b[0m\n\u001b[0;32m      2\u001b[0m \u001b[38;5;28mprint\u001b[39m(missing_values)\n\u001b[0;32m      4\u001b[0m \u001b[38;5;66;03m# handle numerical strings and convert to floats\u001b[39;00m\n\u001b[0;32m      5\u001b[0m df_selected[\u001b[38;5;124m'\u001b[39m\u001b[38;5;124mout_of_pocket_expenditure\u001b[39m\u001b[38;5;124m'\u001b[39m] \u001b[38;5;241m=\u001b[39m (\n\u001b[0;32m      6\u001b[0m     \u001b[43mdf_selected\u001b[49m\u001b[43m[\u001b[49m\u001b[38;5;124;43m'\u001b[39;49m\u001b[38;5;124;43mout_of_pocket_expenditure\u001b[39;49m\u001b[38;5;124;43m'\u001b[39;49m\u001b[43m]\u001b[49m\n\u001b[1;32m----> 7\u001b[0m \u001b[43m    \u001b[49m\u001b[38;5;241;43m.\u001b[39;49m\u001b[43mstr\u001b[49m\u001b[38;5;241m.\u001b[39mrstrip(\u001b[38;5;124m'\u001b[39m\u001b[38;5;124m%\u001b[39m\u001b[38;5;124m'\u001b[39m)     \n\u001b[0;32m      8\u001b[0m     \u001b[38;5;241m.\u001b[39mastype(\u001b[38;5;28mfloat\u001b[39m)        \n\u001b[0;32m      9\u001b[0m )\n\u001b[0;32m     11\u001b[0m df_selected[\u001b[38;5;124m'\u001b[39m\u001b[38;5;124mco2_emissions\u001b[39m\u001b[38;5;124m'\u001b[39m] \u001b[38;5;241m=\u001b[39m (\n\u001b[0;32m     12\u001b[0m     df_selected[\u001b[38;5;124m'\u001b[39m\u001b[38;5;124mco2_emissions\u001b[39m\u001b[38;5;124m'\u001b[39m]\n\u001b[0;32m     13\u001b[0m     \u001b[38;5;241m.\u001b[39mastype(\u001b[38;5;28mstr\u001b[39m)             \n\u001b[0;32m     14\u001b[0m     \u001b[38;5;241m.\u001b[39mstr\u001b[38;5;241m.\u001b[39mreplace(\u001b[38;5;124m'\u001b[39m\u001b[38;5;124m,\u001b[39m\u001b[38;5;124m'\u001b[39m, \u001b[38;5;124m'\u001b[39m\u001b[38;5;124m'\u001b[39m)     \n\u001b[0;32m     15\u001b[0m     \u001b[38;5;241m.\u001b[39mastype(\u001b[38;5;28mfloat\u001b[39m)           \n\u001b[0;32m     16\u001b[0m )\n\u001b[0;32m     18\u001b[0m \u001b[38;5;66;03m# fill missing values with mean avg values\u001b[39;00m\n",
      "File \u001b[1;32m~\\anaconda3\\Lib\\site-packages\\pandas\\core\\generic.py:6299\u001b[0m, in \u001b[0;36mNDFrame.__getattr__\u001b[1;34m(self, name)\u001b[0m\n\u001b[0;32m   6292\u001b[0m \u001b[38;5;28;01mif\u001b[39;00m (\n\u001b[0;32m   6293\u001b[0m     name \u001b[38;5;129;01mnot\u001b[39;00m \u001b[38;5;129;01min\u001b[39;00m \u001b[38;5;28mself\u001b[39m\u001b[38;5;241m.\u001b[39m_internal_names_set\n\u001b[0;32m   6294\u001b[0m     \u001b[38;5;129;01mand\u001b[39;00m name \u001b[38;5;129;01mnot\u001b[39;00m \u001b[38;5;129;01min\u001b[39;00m \u001b[38;5;28mself\u001b[39m\u001b[38;5;241m.\u001b[39m_metadata\n\u001b[0;32m   6295\u001b[0m     \u001b[38;5;129;01mand\u001b[39;00m name \u001b[38;5;129;01mnot\u001b[39;00m \u001b[38;5;129;01min\u001b[39;00m \u001b[38;5;28mself\u001b[39m\u001b[38;5;241m.\u001b[39m_accessors\n\u001b[0;32m   6296\u001b[0m     \u001b[38;5;129;01mand\u001b[39;00m \u001b[38;5;28mself\u001b[39m\u001b[38;5;241m.\u001b[39m_info_axis\u001b[38;5;241m.\u001b[39m_can_hold_identifiers_and_holds_name(name)\n\u001b[0;32m   6297\u001b[0m ):\n\u001b[0;32m   6298\u001b[0m     \u001b[38;5;28;01mreturn\u001b[39;00m \u001b[38;5;28mself\u001b[39m[name]\n\u001b[1;32m-> 6299\u001b[0m \u001b[38;5;28;01mreturn\u001b[39;00m \u001b[38;5;28;43mobject\u001b[39;49m\u001b[38;5;241;43m.\u001b[39;49m\u001b[38;5;21;43m__getattribute__\u001b[39;49m\u001b[43m(\u001b[49m\u001b[38;5;28;43mself\u001b[39;49m\u001b[43m,\u001b[49m\u001b[43m \u001b[49m\u001b[43mname\u001b[49m\u001b[43m)\u001b[49m\n",
      "File \u001b[1;32m~\\anaconda3\\Lib\\site-packages\\pandas\\core\\accessor.py:224\u001b[0m, in \u001b[0;36mCachedAccessor.__get__\u001b[1;34m(self, obj, cls)\u001b[0m\n\u001b[0;32m    221\u001b[0m \u001b[38;5;28;01mif\u001b[39;00m obj \u001b[38;5;129;01mis\u001b[39;00m \u001b[38;5;28;01mNone\u001b[39;00m:\n\u001b[0;32m    222\u001b[0m     \u001b[38;5;66;03m# we're accessing the attribute of the class, i.e., Dataset.geo\u001b[39;00m\n\u001b[0;32m    223\u001b[0m     \u001b[38;5;28;01mreturn\u001b[39;00m \u001b[38;5;28mself\u001b[39m\u001b[38;5;241m.\u001b[39m_accessor\n\u001b[1;32m--> 224\u001b[0m accessor_obj \u001b[38;5;241m=\u001b[39m \u001b[38;5;28;43mself\u001b[39;49m\u001b[38;5;241;43m.\u001b[39;49m\u001b[43m_accessor\u001b[49m\u001b[43m(\u001b[49m\u001b[43mobj\u001b[49m\u001b[43m)\u001b[49m\n\u001b[0;32m    225\u001b[0m \u001b[38;5;66;03m# Replace the property with the accessor object. Inspired by:\u001b[39;00m\n\u001b[0;32m    226\u001b[0m \u001b[38;5;66;03m# https://www.pydanny.com/cached-property.html\u001b[39;00m\n\u001b[0;32m    227\u001b[0m \u001b[38;5;66;03m# We need to use object.__setattr__ because we overwrite __setattr__ on\u001b[39;00m\n\u001b[0;32m    228\u001b[0m \u001b[38;5;66;03m# NDFrame\u001b[39;00m\n\u001b[0;32m    229\u001b[0m \u001b[38;5;28mobject\u001b[39m\u001b[38;5;241m.\u001b[39m\u001b[38;5;21m__setattr__\u001b[39m(obj, \u001b[38;5;28mself\u001b[39m\u001b[38;5;241m.\u001b[39m_name, accessor_obj)\n",
      "File \u001b[1;32m~\\anaconda3\\Lib\\site-packages\\pandas\\core\\strings\\accessor.py:191\u001b[0m, in \u001b[0;36mStringMethods.__init__\u001b[1;34m(self, data)\u001b[0m\n\u001b[0;32m    188\u001b[0m \u001b[38;5;28;01mdef\u001b[39;00m\u001b[38;5;250m \u001b[39m\u001b[38;5;21m__init__\u001b[39m(\u001b[38;5;28mself\u001b[39m, data) \u001b[38;5;241m-\u001b[39m\u001b[38;5;241m>\u001b[39m \u001b[38;5;28;01mNone\u001b[39;00m:\n\u001b[0;32m    189\u001b[0m     \u001b[38;5;28;01mfrom\u001b[39;00m\u001b[38;5;250m \u001b[39m\u001b[38;5;21;01mpandas\u001b[39;00m\u001b[38;5;21;01m.\u001b[39;00m\u001b[38;5;21;01mcore\u001b[39;00m\u001b[38;5;21;01m.\u001b[39;00m\u001b[38;5;21;01marrays\u001b[39;00m\u001b[38;5;21;01m.\u001b[39;00m\u001b[38;5;21;01mstring_\u001b[39;00m\u001b[38;5;250m \u001b[39m\u001b[38;5;28;01mimport\u001b[39;00m StringDtype\n\u001b[1;32m--> 191\u001b[0m     \u001b[38;5;28mself\u001b[39m\u001b[38;5;241m.\u001b[39m_inferred_dtype \u001b[38;5;241m=\u001b[39m \u001b[38;5;28;43mself\u001b[39;49m\u001b[38;5;241;43m.\u001b[39;49m\u001b[43m_validate\u001b[49m\u001b[43m(\u001b[49m\u001b[43mdata\u001b[49m\u001b[43m)\u001b[49m\n\u001b[0;32m    192\u001b[0m     \u001b[38;5;28mself\u001b[39m\u001b[38;5;241m.\u001b[39m_is_categorical \u001b[38;5;241m=\u001b[39m \u001b[38;5;28misinstance\u001b[39m(data\u001b[38;5;241m.\u001b[39mdtype, CategoricalDtype)\n\u001b[0;32m    193\u001b[0m     \u001b[38;5;28mself\u001b[39m\u001b[38;5;241m.\u001b[39m_is_string \u001b[38;5;241m=\u001b[39m \u001b[38;5;28misinstance\u001b[39m(data\u001b[38;5;241m.\u001b[39mdtype, StringDtype)\n",
      "File \u001b[1;32m~\\anaconda3\\Lib\\site-packages\\pandas\\core\\strings\\accessor.py:245\u001b[0m, in \u001b[0;36mStringMethods._validate\u001b[1;34m(data)\u001b[0m\n\u001b[0;32m    242\u001b[0m inferred_dtype \u001b[38;5;241m=\u001b[39m lib\u001b[38;5;241m.\u001b[39minfer_dtype(values, skipna\u001b[38;5;241m=\u001b[39m\u001b[38;5;28;01mTrue\u001b[39;00m)\n\u001b[0;32m    244\u001b[0m \u001b[38;5;28;01mif\u001b[39;00m inferred_dtype \u001b[38;5;129;01mnot\u001b[39;00m \u001b[38;5;129;01min\u001b[39;00m allowed_types:\n\u001b[1;32m--> 245\u001b[0m     \u001b[38;5;28;01mraise\u001b[39;00m \u001b[38;5;167;01mAttributeError\u001b[39;00m(\u001b[38;5;124m\"\u001b[39m\u001b[38;5;124mCan only use .str accessor with string values!\u001b[39m\u001b[38;5;124m\"\u001b[39m)\n\u001b[0;32m    246\u001b[0m \u001b[38;5;28;01mreturn\u001b[39;00m inferred_dtype\n",
      "\u001b[1;31mAttributeError\u001b[0m: Can only use .str accessor with string values!"
     ]
    }
   ],
   "source": [
    "missing_values = df_selected.isnull().sum()\n",
    "print(missing_values)\n",
    "\n",
    "# handle numerical strings and convert to floats\n",
    "df_selected['out_of_pocket_expenditure'] = (\n",
    "    df_selected['out_of_pocket_expenditure']\n",
    "    .str.rstrip('%')     \n",
    "    .astype(float)        \n",
    ")\n",
    "\n",
    "df_selected['co2_emissions'] = (\n",
    "    df_selected['co2_emissions']\n",
    "    .astype(str)             \n",
    "    .str.replace(',', '')     \n",
    "    .astype(float)           \n",
    ")\n",
    "\n",
    "# fill missing values with mean avg values\n",
    "df_selected.fillna(df_selected.mean(numeric_only=True), inplace=True)\n",
    "\n",
    "# view cleaned data\n",
    "print(\"\\nCleaned Data (with filled values):\")\n",
    "print(df_selected.head())\n",
    "\n",
    "print(missing_values)"
   ]
  },
  {
   "cell_type": "markdown",
   "id": "d9184e38-e7a4-47cb-8286-88da7e21a880",
   "metadata": {},
   "source": [
    "### 4. Multivariate Analysis"
   ]
  },
  {
   "cell_type": "markdown",
   "id": "f582d867-51cb-445a-8f3f-f65b4ef109ee",
   "metadata": {},
   "source": [
    "### 5. Normalisation"
   ]
  },
  {
   "cell_type": "markdown",
   "id": "96e5308e-13c3-4642-ad25-9fef5adddf74",
   "metadata": {},
   "source": [
    "### 6. Weighting and Aggregation"
   ]
  },
  {
   "cell_type": "markdown",
   "id": "a748d411-b463-4a66-b704-4d2327b85d9a",
   "metadata": {},
   "source": [
    "### 7. Uncertainty and Sensitivity Analysis"
   ]
  },
  {
   "cell_type": "markdown",
   "id": "4a648cb3-b298-45df-aa33-a5bcbd8686e6",
   "metadata": {},
   "source": [
    "### 8. Back to the Data"
   ]
  },
  {
   "cell_type": "markdown",
   "id": "f6580749-9f0c-4d9e-bdaa-499d0c9f8e72",
   "metadata": {},
   "source": [
    "### 9. Links to other Indicators"
   ]
  },
  {
   "cell_type": "markdown",
   "id": "1ee76b00-2c81-4ec5-9572-c3fc20850821",
   "metadata": {},
   "source": [
    "### 10. Visualisation of the Results"
   ]
  },
  {
   "cell_type": "code",
   "execution_count": null,
   "id": "8bc4ea98-6a44-4f94-8e83-76ea38e9eb4a",
   "metadata": {},
   "outputs": [],
   "source": []
  }
 ],
 "metadata": {
  "kernelspec": {
   "display_name": "Python 3 (ipykernel)",
   "language": "python",
   "name": "python3"
  },
  "language_info": {
   "codemirror_mode": {
    "name": "ipython",
    "version": 3
   },
   "file_extension": ".py",
   "mimetype": "text/x-python",
   "name": "python",
   "nbconvert_exporter": "python",
   "pygments_lexer": "ipython3",
   "version": "3.12.7"
  }
 },
 "nbformat": 4,
 "nbformat_minor": 5
}
