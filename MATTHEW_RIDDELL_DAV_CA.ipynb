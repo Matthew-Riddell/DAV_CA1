{
 "cells": [
  {
   "cell_type": "markdown",
   "id": "c9769381-08dd-435d-bada-6c4d1769d27e",
   "metadata": {},
   "source": [
    "I chose the following dataset from Kaggle: https://www.kaggle.com/datasets/sidharth178/car-prices-dataset?resource=download\n",
    "\n"
   ]
  },
  {
   "cell_type": "code",
   "execution_count": null,
   "id": "81bc4939-c27a-4767-b381-f741f9d010d5",
   "metadata": {},
   "outputs": [],
   "source": []
  }
 ],
 "metadata": {
  "kernelspec": {
   "display_name": "Python 3 (ipykernel)",
   "language": "python",
   "name": "python3"
  },
  "language_info": {
   "codemirror_mode": {
    "name": "ipython",
    "version": 3
   },
   "file_extension": ".py",
   "mimetype": "text/x-python",
   "name": "python",
   "nbconvert_exporter": "python",
   "pygments_lexer": "ipython3",
   "version": "3.12.7"
  }
 },
 "nbformat": 4,
 "nbformat_minor": 5
}
